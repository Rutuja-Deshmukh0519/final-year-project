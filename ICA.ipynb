{
 "cells": [
  {
   "cell_type": "code",
   "execution_count": 5,
   "id": "bb1f3840",
   "metadata": {},
   "outputs": [
    {
     "name": "stdout",
     "output_type": "stream",
     "text": [
      "Total Fit Time:  68.28125\n",
      "Average Fit time:  0.6828125\n",
      "Total Fit-Transform Time:  66.125\n",
      "Average Fit-Transform time:  0.66125\n",
      "Total Time required for execution:  136.875\n"
     ]
    }
   ],
   "source": [
    "from sklearn.decomposition import FastICA\n",
    "import cv2\n",
    "from pylab import *\n",
    "from skimage import data, io, color\n",
    "import os\n",
    "import glob\n",
    "import time\n",
    "\n",
    "total_time = 0.0\n",
    "sum_fit = 0.0\n",
    "sum_fit_transform = 0.0\n",
    "start_total = time.process_time()\n",
    "i=0\n",
    "os.mkdir('ICA')\n",
    "path=\"Resized_sample/*.jpeg*\"\n",
    "\n",
    "for image in glob.glob(path):\n",
    "    X=io.imread(image,as_gray=True)\n",
    "    ica = FastICA(n_components = 50)\n",
    "    \n",
    "    start_fit = time.process_time()\n",
    "    ica.fit(X)\n",
    "    sum_fit += time.process_time() - start_fit\n",
    "    \n",
    "    # reconstruct image with independent components\n",
    "    start_fit_transform = time.process_time()\n",
    "    emc2_image_ica = ica.fit_transform(X)\n",
    "    sum_fit_transform += time.process_time() - start_fit_transform\n",
    "    \n",
    "    emc2_restored = ica.inverse_transform(emc2_image_ica)\n",
    "    emc2_restored = emc2_restored.astype(np.uint8) \n",
    "    # show image to screen\n",
    "#     io.imshow(emc2_restored)\n",
    "#     show()\n",
    "\n",
    "    io.imsave(\"ICA/image%05i.jpeg\" %i, emc2_restored)\n",
    "    i += 1\n",
    "    \n",
    "total_time += time.process_time() - start_total\n",
    "\n",
    "avg_fit = sum_fit/100\n",
    "avg_fit_transform = sum_fit_transform/100\n",
    "\n",
    "print(\"Total Fit Time: \", sum_fit)\n",
    "print(\"Average Fit time: \", avg_fit)\n",
    "print(\"Total Fit-Transform Time: \", sum_fit_transform)\n",
    "print(\"Average Fit-Transform time: \", avg_fit_transform)\n",
    "print(\"Total Time required for execution: \", total_time)"
   ]
  },
  {
   "cell_type": "code",
   "execution_count": null,
   "id": "f1bde790",
   "metadata": {},
   "outputs": [],
   "source": []
  }
 ],
 "metadata": {
  "kernelspec": {
   "display_name": "Python 3",
   "language": "python",
   "name": "python3"
  },
  "language_info": {
   "codemirror_mode": {
    "name": "ipython",
    "version": 3
   },
   "file_extension": ".py",
   "mimetype": "text/x-python",
   "name": "python",
   "nbconvert_exporter": "python",
   "pygments_lexer": "ipython3",
   "version": "3.8.8"
  }
 },
 "nbformat": 4,
 "nbformat_minor": 5
}
