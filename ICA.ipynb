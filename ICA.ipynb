{
 "cells": [
  {
   "cell_type": "code",
   "execution_count": 5,
   "id": "bb1f3840",
   "metadata": {
    "scrolled": true
   },
   "outputs": [
    {
     "name": "stderr",
     "output_type": "stream",
     "text": [
      "C:\\Users\\Lenovo\\anaconda3\\lib\\site-packages\\sklearn\\decomposition\\_fastica.py:116: ConvergenceWarning: FastICA did not converge. Consider increasing tolerance or the maximum number of iterations.\n",
      "  warnings.warn(\n",
      "C:\\Users\\Lenovo\\anaconda3\\lib\\site-packages\\sklearn\\decomposition\\_fastica.py:116: ConvergenceWarning: FastICA did not converge. Consider increasing tolerance or the maximum number of iterations.\n",
      "  warnings.warn(\n",
      "C:\\Users\\Lenovo\\anaconda3\\lib\\site-packages\\sklearn\\decomposition\\_fastica.py:116: ConvergenceWarning: FastICA did not converge. Consider increasing tolerance or the maximum number of iterations.\n",
      "  warnings.warn(\n",
      "C:\\Users\\Lenovo\\anaconda3\\lib\\site-packages\\sklearn\\decomposition\\_fastica.py:116: ConvergenceWarning: FastICA did not converge. Consider increasing tolerance or the maximum number of iterations.\n",
      "  warnings.warn(\n",
      "C:\\Users\\Lenovo\\anaconda3\\lib\\site-packages\\sklearn\\decomposition\\_fastica.py:116: ConvergenceWarning: FastICA did not converge. Consider increasing tolerance or the maximum number of iterations.\n",
      "  warnings.warn(\n",
      "C:\\Users\\Lenovo\\anaconda3\\lib\\site-packages\\sklearn\\decomposition\\_fastica.py:116: ConvergenceWarning: FastICA did not converge. Consider increasing tolerance or the maximum number of iterations.\n",
      "  warnings.warn(\n",
      "C:\\Users\\Lenovo\\anaconda3\\lib\\site-packages\\sklearn\\decomposition\\_fastica.py:116: ConvergenceWarning: FastICA did not converge. Consider increasing tolerance or the maximum number of iterations.\n",
      "  warnings.warn(\n",
      "C:\\Users\\Lenovo\\anaconda3\\lib\\site-packages\\sklearn\\decomposition\\_fastica.py:116: ConvergenceWarning: FastICA did not converge. Consider increasing tolerance or the maximum number of iterations.\n",
      "  warnings.warn(\n",
      "C:\\Users\\Lenovo\\anaconda3\\lib\\site-packages\\sklearn\\decomposition\\_fastica.py:116: ConvergenceWarning: FastICA did not converge. Consider increasing tolerance or the maximum number of iterations.\n",
      "  warnings.warn(\n",
      "C:\\Users\\Lenovo\\anaconda3\\lib\\site-packages\\sklearn\\decomposition\\_fastica.py:116: ConvergenceWarning: FastICA did not converge. Consider increasing tolerance or the maximum number of iterations.\n",
      "  warnings.warn(\n",
      "C:\\Users\\Lenovo\\anaconda3\\lib\\site-packages\\sklearn\\decomposition\\_fastica.py:116: ConvergenceWarning: FastICA did not converge. Consider increasing tolerance or the maximum number of iterations.\n",
      "  warnings.warn(\n",
      "C:\\Users\\Lenovo\\anaconda3\\lib\\site-packages\\sklearn\\decomposition\\_fastica.py:116: ConvergenceWarning: FastICA did not converge. Consider increasing tolerance or the maximum number of iterations.\n",
      "  warnings.warn(\n",
      "C:\\Users\\Lenovo\\anaconda3\\lib\\site-packages\\sklearn\\decomposition\\_fastica.py:116: ConvergenceWarning: FastICA did not converge. Consider increasing tolerance or the maximum number of iterations.\n",
      "  warnings.warn(\n",
      "C:\\Users\\Lenovo\\anaconda3\\lib\\site-packages\\sklearn\\decomposition\\_fastica.py:116: ConvergenceWarning: FastICA did not converge. Consider increasing tolerance or the maximum number of iterations.\n",
      "  warnings.warn(\n",
      "C:\\Users\\Lenovo\\anaconda3\\lib\\site-packages\\sklearn\\decomposition\\_fastica.py:116: ConvergenceWarning: FastICA did not converge. Consider increasing tolerance or the maximum number of iterations.\n",
      "  warnings.warn(\n",
      "C:\\Users\\Lenovo\\anaconda3\\lib\\site-packages\\sklearn\\decomposition\\_fastica.py:116: ConvergenceWarning: FastICA did not converge. Consider increasing tolerance or the maximum number of iterations.\n",
      "  warnings.warn(\n",
      "C:\\Users\\Lenovo\\anaconda3\\lib\\site-packages\\sklearn\\decomposition\\_fastica.py:116: ConvergenceWarning: FastICA did not converge. Consider increasing tolerance or the maximum number of iterations.\n",
      "  warnings.warn(\n",
      "C:\\Users\\Lenovo\\anaconda3\\lib\\site-packages\\sklearn\\decomposition\\_fastica.py:116: ConvergenceWarning: FastICA did not converge. Consider increasing tolerance or the maximum number of iterations.\n",
      "  warnings.warn(\n",
      "C:\\Users\\Lenovo\\anaconda3\\lib\\site-packages\\sklearn\\decomposition\\_fastica.py:116: ConvergenceWarning: FastICA did not converge. Consider increasing tolerance or the maximum number of iterations.\n",
      "  warnings.warn(\n",
      "C:\\Users\\Lenovo\\anaconda3\\lib\\site-packages\\sklearn\\decomposition\\_fastica.py:116: ConvergenceWarning: FastICA did not converge. Consider increasing tolerance or the maximum number of iterations.\n",
      "  warnings.warn(\n",
      "C:\\Users\\Lenovo\\anaconda3\\lib\\site-packages\\sklearn\\decomposition\\_fastica.py:116: ConvergenceWarning: FastICA did not converge. Consider increasing tolerance or the maximum number of iterations.\n",
      "  warnings.warn(\n",
      "C:\\Users\\Lenovo\\anaconda3\\lib\\site-packages\\sklearn\\decomposition\\_fastica.py:116: ConvergenceWarning: FastICA did not converge. Consider increasing tolerance or the maximum number of iterations.\n",
      "  warnings.warn(\n",
      "C:\\Users\\Lenovo\\anaconda3\\lib\\site-packages\\sklearn\\decomposition\\_fastica.py:116: ConvergenceWarning: FastICA did not converge. Consider increasing tolerance or the maximum number of iterations.\n",
      "  warnings.warn(\n",
      "C:\\Users\\Lenovo\\anaconda3\\lib\\site-packages\\sklearn\\decomposition\\_fastica.py:116: ConvergenceWarning: FastICA did not converge. Consider increasing tolerance or the maximum number of iterations.\n",
      "  warnings.warn(\n",
      "C:\\Users\\Lenovo\\anaconda3\\lib\\site-packages\\sklearn\\decomposition\\_fastica.py:116: ConvergenceWarning: FastICA did not converge. Consider increasing tolerance or the maximum number of iterations.\n",
      "  warnings.warn(\n",
      "C:\\Users\\Lenovo\\anaconda3\\lib\\site-packages\\sklearn\\decomposition\\_fastica.py:116: ConvergenceWarning: FastICA did not converge. Consider increasing tolerance or the maximum number of iterations.\n",
      "  warnings.warn(\n",
      "C:\\Users\\Lenovo\\anaconda3\\lib\\site-packages\\sklearn\\decomposition\\_fastica.py:116: ConvergenceWarning: FastICA did not converge. Consider increasing tolerance or the maximum number of iterations.\n",
      "  warnings.warn(\n"
     ]
    },
    {
     "name": "stdout",
     "output_type": "stream",
     "text": [
      "Total Fit Time:  1509.953125\n",
      "Average Fit time:  1.509953125\n",
      "Total Fit-Transform Time:  1525.46875\n",
      "Average Fit-Transform time:  1.52546875\n",
      "Total Time required for execution:  3061.984375\n"
     ]
    }
   ],
   "source": [
    "from sklearn.decomposition import FastICA\n",
    "import cv2\n",
    "from pylab import *\n",
    "from skimage import data, io, color\n",
    "import os\n",
    "import glob\n",
    "import time\n",
    "\n",
    "total_time = 0.0\n",
    "sum_fit = 0.0\n",
    "sum_fit_transform = 0.0\n",
    "start_total = time.process_time()\n",
    "i=0\n",
    "os.mkdir('ica-output-60-comps')\n",
    "path=\"resized-output/*.jpeg*\"\n",
    "\n",
    "for image in glob.glob(path):\n",
    "    X=io.imread(image,as_gray=True)\n",
    "    ica = FastICA(n_components = 60)\n",
    "    \n",
    "    start_fit = time.process_time()\n",
    "    ica.fit(X)\n",
    "    sum_fit += time.process_time() - start_fit\n",
    "    \n",
    "    # reconstruct image with independent components\n",
    "    start_fit_transform = time.process_time()\n",
    "    emc2_image_ica = ica.fit_transform(X)\n",
    "    sum_fit_transform += time.process_time() - start_fit_transform\n",
    "    \n",
    "    emc2_restored = ica.inverse_transform(emc2_image_ica)\n",
    "    emc2_restored = emc2_restored.astype(np.uint8) \n",
    "    # show image to screen\n",
    "#     io.imshow(emc2_restored)\n",
    "#     show()\n",
    "\n",
    "    io.imsave(\"ica-output-60-comps/image%05i.jpeg\" %i, emc2_restored)\n",
    "    i += 1\n",
    "    \n",
    "total_time += time.process_time() - start_total\n",
    "\n",
    "avg_fit = sum_fit/1000\n",
    "avg_fit_transform = sum_fit_transform/1000\n",
    "\n",
    "print(\"Total Fit Time: \", sum_fit)\n",
    "print(\"Average Fit time: \", avg_fit)\n",
    "print(\"Total Fit-Transform Time: \", sum_fit_transform)\n",
    "print(\"Average Fit-Transform time: \", avg_fit_transform)\n",
    "print(\"Total Time required for execution: \", total_time)"
   ]
  },
  {
   "cell_type": "code",
   "execution_count": 8,
   "id": "481b44f1",
   "metadata": {},
   "outputs": [],
   "source": [
    "import xlsxwriter\n",
    "def mse(imageA, imageB):\n",
    "    err = np.sum((imageA.astype(\"float\") - imageB.astype(\"float\")) ** 2)\n",
    "    err /= float(imageA.shape[0] * imageA.shape[1])\n",
    "    return err"
   ]
  },
  {
   "cell_type": "code",
   "execution_count": 10,
   "id": "f1bde790",
   "metadata": {},
   "outputs": [
    {
     "name": "stdout",
     "output_type": "stream",
     "text": [
      "ICA MSE Calculation Successful!\n"
     ]
    }
   ],
   "source": [
    "workbook = xlsxwriter.Workbook('ICA-Dimensionality-reduction-analysis.xlsx')\n",
    "worksheet = workbook.add_worksheet()\n",
    "\n",
    "worksheet.write('A1', 'log(MSE-ICA-40-components)')\n",
    "worksheet.write('B1', 'log(MSE-ICA-45-components)')\n",
    "worksheet.write('C1', 'log(MSE-ICA-50-components)')\n",
    "worksheet.write('D1', 'log(MSE-ICA-55-components)')\n",
    "worksheet.write('E1', 'log(MSE-ICA-60-components)')\n",
    "\n",
    "path_resized = \"D:/Documents/final-year-project/resized-output/*.jpeg*\"\n",
    "path_ica_40_comps = \"D:/Documents/final-year-project/ica-output-40-comps/*.jpeg*\"\n",
    "path_ica_45_comps = \"D:/Documents/final-year-project/ica-output-45-comps/*.jpeg*\"\n",
    "path_ica_50_comps = \"D:/Documents/final-year-project/ica-output-50-comps/*.jpeg*\"\n",
    "path_ica_55_comps = \"D:/Documents/final-year-project/ica-output-55-comps/*.jpeg*\"\n",
    "path_ica_60_comps = \"D:/Documents/final-year-project/ica-output-60-comps/*.jpeg*\"\n",
    "\n",
    "rowIndexICA = 2\n",
    "for imgResized, imgICA40Comps, imgICA45Comps, imgICA50Comps, imgICA55Comps, imgICA60Comps in zip(glob.glob(path_resized), glob.glob(path_ica_40_comps), glob.glob(path_ica_45_comps), glob.glob(path_ica_50_comps), glob.glob(path_ica_55_comps), glob.glob(path_ica_60_comps)):\n",
    "    img_resized = io.imread(imgResized)\n",
    "    img_ica_40_comps = io.imread(imgICA40Comps)\n",
    "    img_ica_45_comps = io.imread(imgICA45Comps)\n",
    "    img_ica_50_comps = io.imread(imgICA50Comps)\n",
    "    img_ica_55_comps = io.imread(imgICA55Comps)\n",
    "    img_ica_60_comps = io.imread(imgICA60Comps)\n",
    "    \n",
    "    err_ica_40_comps = mse(img_resized, img_ica_40_comps)\n",
    "    err_ica_45_comps = mse(img_resized, img_ica_45_comps)\n",
    "    err_ica_50_comps = mse(img_resized, img_ica_50_comps)\n",
    "    err_ica_55_comps = mse(img_resized, img_ica_55_comps)\n",
    "    err_ica_60_comps = mse(img_resized, img_ica_60_comps)\n",
    "    \n",
    "    # Calculating log for better visualization\n",
    "    log_mse_ica_40_comps = math.log(err_ica_40_comps)\n",
    "    log_mse_ica_45_comps = math.log(err_ica_45_comps)\n",
    "    log_mse_ica_50_comps = math.log(err_ica_50_comps)\n",
    "    log_mse_ica_55_comps = math.log(err_ica_55_comps)\n",
    "    log_mse_ica_60_comps = math.log(err_ica_60_comps)\n",
    "    \n",
    "    worksheet.write('A' + str(rowIndexICA), log_mse_ica_40_comps)\n",
    "    worksheet.write('B' + str(rowIndexICA), log_mse_ica_45_comps)\n",
    "    worksheet.write('C' + str(rowIndexICA), log_mse_ica_50_comps)\n",
    "    worksheet.write('D' + str(rowIndexICA), log_mse_ica_55_comps)\n",
    "    worksheet.write('E' + str(rowIndexICA), log_mse_ica_60_comps)\n",
    "   \n",
    "    rowIndexICA += 1\n",
    "    \n",
    "workbook.close()\n",
    "\n",
    "print(\"ICA MSE Calculation Successful!\")"
   ]
  },
  {
   "cell_type": "code",
   "execution_count": 12,
   "id": "97e5c38f",
   "metadata": {},
   "outputs": [
    {
     "data": {
      "image/png": "[encoded data removed]",
      "text/plain": [
       "<Figure size 432x288 with 1 Axes>"
      ]
     },
     "metadata": {},
     "output_type": "display_data"
    }
   ],
   "source": [
    "import numpy as np\n",
    "import pandas as pd\n",
    "import seaborn as sns\n",
    "import matplotlib.pyplot as plt\n",
    "\n",
    "# load the dataset\n",
    "Boxplot= pd.read_csv(\"D:/Documents/final-year-project/ANALYSIS OF DR/ica-mse-analysis.csv\")\n",
    "\n",
    "sns.set_style(\"whitegrid\")\n",
    "\n",
    "boxplot_ica = sns.boxplot(x = 'comp', y = 'log(MSE-ICA-components)', data = Boxplot)\n",
    "plt.savefig('D:/Documents/final-year-project/ANALYSIS OF DR/ICA_DR_analysis_boxplot.png', orientation = 'horizontal')"
   ]
  },
  {
   "cell_type": "code",
   "execution_count": null,
   "id": "6bdadc30",
   "metadata": {},
   "outputs": [],
   "source": []
  }
 ],
 "metadata": {
  "kernelspec": {
   "display_name": "Python 3",
   "language": "python",
   "name": "python3"
  },
  "language_info": {
   "codemirror_mode": {
    "name": "ipython",
    "version": 3
   },
   "file_extension": ".py",
   "mimetype": "text/x-python",
   "name": "python",
   "nbconvert_exporter": "python",
   "pygments_lexer": "ipython3",
   "version": "3.8.8"
  }
 },
 "nbformat": 4,
 "nbformat_minor": 5
}
