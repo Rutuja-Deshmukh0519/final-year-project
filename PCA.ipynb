{
 "cells": [
  {
   "cell_type": "markdown",
   "id": "31882d4e",
   "metadata": {},
   "source": [
    "# PCA "
   ]
  },
  {
   "cell_type": "code",
   "execution_count": 3,
   "id": "c76c70c1",
   "metadata": {},
   "outputs": [
    {
     "name": "stdout",
     "output_type": "stream",
     "text": [
      "Total Fit Time:  12.625\n",
      "Average Fit time:  0.12625\n",
      "Total Transform Time:  0.0625\n",
      "Average Transform time:  0.000625\n",
      "Total Time required for execution:  13.703125\n"
     ]
    }
   ],
   "source": [
    "import os\n",
    "import numpy as np\n",
    "import matplotlib.pyplot as plt\n",
    "from skimage import io  \n",
    "from sklearn.decomposition import PCA\n",
    "import glob \n",
    "import time\n",
    "\n",
    "total_time = 0.0\n",
    "sum_fit = 0.0\n",
    "sum_transform = 0.0\n",
    "start_total = time.process_time()\n",
    "i = 0\n",
    "\n",
    "os.mkdir('PCA') \n",
    "path = \"Resized_sample/*.jpeg*\"\n",
    "for image in glob.glob(path):\n",
    "    img = io.imread(image)\n",
    "    img = img.astype(np.uint8)\n",
    "#    print(img.shape)\n",
    "#    plt.imshow(img, cmap=\"gray\") \n",
    "    \n",
    "    start_fit = time.process_time()\n",
    "    fit_pca = PCA(n_components=50).fit(img)  # approx 98.143%(1), 96.61%(2) information in an image [PC1 greater, more info]\n",
    "    sum_fit += time.process_time() - start_fit\n",
    "    \n",
    "    start_transform = time.process_time()\n",
    "    transformed = fit_pca.transform(img)\n",
    "    sum_transform += time.process_time() - start_transform\n",
    "    \n",
    "    projected = fit_pca.inverse_transform(transformed)\n",
    "    transformed = transformed.astype(np.uint8)\n",
    "#     print(transformed.shape)\n",
    "#     plt.imshow(projected, cmap=\"gray\")\n",
    "    io.imsave(\"PCA/image%05i.jpeg\" %i, transformed)\n",
    "    i += 1 \n",
    "    \n",
    "total_time += time.process_time() - start_total\n",
    "\n",
    "avg_fit = sum_fit/100;\n",
    "avg_transform = sum_transform/100\n",
    "\n",
    "print(\"Total Fit Time: \", sum_fit)\n",
    "print(\"Average Fit time: \", avg_fit)\n",
    "print(\"Total Transform Time: \", sum_transform)\n",
    "print(\"Average Transform time: \", avg_transform)\n",
    "print(\"Total Time required for execution: \", total_time)\n"
   ]
  },
  {
   "cell_type": "code",
   "execution_count": null,
   "id": "36c002a9",
   "metadata": {},
   "outputs": [],
   "source": []
  }
 ],
 "metadata": {
  "kernelspec": {
   "display_name": "Python 3",
   "language": "python",
   "name": "python3"
  },
  "language_info": {
   "codemirror_mode": {
    "name": "ipython",
    "version": 3
   },
   "file_extension": ".py",
   "mimetype": "text/x-python",
   "name": "python",
   "nbconvert_exporter": "python",
   "pygments_lexer": "ipython3",
   "version": "3.8.8"
  }
 },
 "nbformat": 4,
 "nbformat_minor": 5
}
