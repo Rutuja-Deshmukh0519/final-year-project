{
 "cells": [
  {
   "cell_type": "markdown",
   "id": "31882d4e",
   "metadata": {},
   "source": [
    "# PCA "
   ]
  },
  {
   "cell_type": "code",
   "execution_count": 12,
   "id": "c76c70c1",
   "metadata": {},
   "outputs": [
    {
     "name": "stdout",
     "output_type": "stream",
     "text": [
      "Total Fit Time:  222.890625\n",
      "Average Fit time:  0.222890625\n",
      "Total Transform Time:  2.65625\n",
      "Average Transform time:  0.00265625\n",
      "Total Time required for execution:  247.734375\n"
     ]
    }
   ],
   "source": [
    "import os\n",
    "import numpy as np\n",
    "import matplotlib.pyplot as plt\n",
    "from skimage import io  \n",
    "from sklearn.decomposition import PCA\n",
    "import glob \n",
    "import time\n",
    "import glob\n",
    "import xlsxwriter\n",
    "import math \n",
    "\n",
    "total_time = 0.0\n",
    "sum_fit = 0.0\n",
    "sum_transform = 0.0\n",
    "start_total = time.process_time()\n",
    "i = 0\n",
    "\n",
    "os.mkdir('pca-output-40-comps') \n",
    "path = \"resized-output-next-1000/*.jpeg*\"\n",
    "for image in glob.glob(path):\n",
    "    img = io.imread(image)\n",
    "    img = img.astype(np.uint8)\n",
    "#    print(img.shape)\n",
    "#    plt.imshow(img, cmap=\"gray\") \n",
    "    \n",
    "    start_fit = time.process_time()\n",
    "    fit_pca = PCA(n_components=40).fit(img)  # approx 98.143%(1), 96.61%(2) information in an image [PC1 greater, more info]\n",
    "    sum_fit += time.process_time() - start_fit\n",
    "    \n",
    "    start_transform = time.process_time()\n",
    "    transformed = fit_pca.transform(img)\n",
    "    sum_transform += time.process_time() - start_transform\n",
    "    \n",
    "    projected = fit_pca.inverse_transform(transformed)\n",
    "    projected = projected.astype(np.uint8)\n",
    "#     print(transformed.shape)\n",
    "#     plt.imshow(projected, cmap=\"gray\")\n",
    "    io.imsave(\"pca-output-40-comps/image%05i.jpeg\" %i, projected)\n",
    "    i += 1 \n",
    "    \n",
    "total_time += time.process_time() - start_total\n",
    "\n",
    "avg_fit = sum_fit/1000;\n",
    "avg_transform = sum_transform/1000\n",
    "\n",
    "print(\"Total Fit Time: \", sum_fit)\n",
    "print(\"Average Fit time: \", avg_fit)\n",
    "print(\"Total Transform Time: \", sum_transform)\n",
    "print(\"Average Transform time: \", avg_transform)\n",
    "print(\"Total Time required for execution: \", total_time)\n"
   ]
  },
  {
   "cell_type": "code",
   "execution_count": 13,
   "id": "5988d5df",
   "metadata": {},
   "outputs": [],
   "source": [
    "def mse(imageA, imageB):\n",
    "    err = np.sum((imageA.astype(\"float\") - imageB.astype(\"float\")) ** 2)\n",
    "    err /= float(imageA.shape[0] * imageA.shape[1])\n",
    "    return err"
   ]
  },
  {
   "cell_type": "code",
   "execution_count": 15,
   "id": "803c9283",
   "metadata": {},
   "outputs": [
    {
     "name": "stdout",
     "output_type": "stream",
     "text": [
      " PCA MSE Calculation Successful!\n"
     ]
    }
   ],
   "source": [
    "workbook = xlsxwriter.Workbook('PCA-Dimensionality-reduction-analysis.xlsx')\n",
    "worksheet = workbook.add_worksheet()\n",
    "\n",
    "worksheet.write('A1', 'log(MSE-PCA-40-components)')\n",
    "worksheet.write('B1', 'log(MSE-PCA-45-components)')\n",
    "worksheet.write('C1', 'log(MSE-PCA-50-components)')\n",
    "worksheet.write('D1', 'log(MSE-PCA-55-components)')\n",
    "worksheet.write('E1', 'log(MSE-PCA-60-components)')\n",
    "\n",
    "path_resized = \"D:/Documents/final-year-project/resized-output-next-1000/*.jpeg*\"\n",
    "path_pca_40_comps = \"D:/Documents/final-year-project/pca-output-40-comps/*.jpeg*\"\n",
    "path_pca_45_comps = \"D:/Documents/final-year-project/pca-output-45-comps/*.jpeg*\"\n",
    "path_pca_50_comps = \"D:/Documents/final-year-project/pca-output-50-comps/*.jpeg*\"\n",
    "path_pca_55_comps = \"D:/Documents/final-year-project/pca-output-55-comps/*.jpeg*\"\n",
    "path_pca_60_comps = \"D:/Documents/final-year-project/pca-output-60-comps/*.jpeg*\"\n",
    "\n",
    "rowIndexPCA = 2\n",
    "for imgResized, imgPCA40Comps, imgPCA45Comps, imgPCA50Comps, imgPCA55Comps, imgPCA60Comps in zip(glob.glob(path_resized), glob.glob(path_pca_40_comps), glob.glob(path_pca_45_comps), glob.glob(path_pca_50_comps), glob.glob(path_pca_55_comps), glob.glob(path_pca_60_comps)):\n",
    "    img_resized = io.imread(imgResized)\n",
    "    img_pca_40_comps = io.imread(imgPCA40Comps)\n",
    "    img_pca_45_comps = io.imread(imgPCA45Comps)\n",
    "    img_pca_50_comps = io.imread(imgPCA50Comps)\n",
    "    img_pca_55_comps = io.imread(imgPCA55Comps)\n",
    "    img_pca_60_comps = io.imread(imgPCA60Comps)\n",
    "    \n",
    "    err_pca_40_comps = mse(img_resized, img_pca_40_comps)\n",
    "    err_pca_45_comps = mse(img_resized, img_pca_45_comps)\n",
    "    err_pca_50_comps = mse(img_resized, img_pca_50_comps)\n",
    "    err_pca_55_comps = mse(img_resized, img_pca_55_comps)\n",
    "    err_pca_60_comps = mse(img_resized, img_pca_60_comps)\n",
    "    \n",
    "    # Calculating log for better visualization\n",
    "    log_mse_pca_40_comps = math.log(err_pca_40_comps)\n",
    "    log_mse_pca_45_comps = math.log(err_pca_45_comps)\n",
    "    log_mse_pca_50_comps = math.log(err_pca_50_comps)\n",
    "    log_mse_pca_55_comps = math.log(err_pca_55_comps)\n",
    "    log_mse_pca_60_comps = math.log(err_pca_60_comps)\n",
    "    \n",
    "    worksheet.write('A' + str(rowIndexPCA), log_mse_pca_40_comps)\n",
    "    worksheet.write('B' + str(rowIndexPCA), log_mse_pca_45_comps)\n",
    "    worksheet.write('C' + str(rowIndexPCA), log_mse_pca_50_comps)\n",
    "    worksheet.write('D' + str(rowIndexPCA), log_mse_pca_55_comps)\n",
    "    worksheet.write('E' + str(rowIndexPCA), log_mse_pca_60_comps)\n",
    "   \n",
    "    rowIndexPCA += 1\n",
    "    \n",
    "workbook.close()\n",
    "\n",
    "print(\" PCA MSE Calculation Successful!\")"
   ]
  },
  {
   "cell_type": "code",
   "execution_count": 16,
   "id": "9c7032c2",
   "metadata": {},
   "outputs": [
    {
     "data": {
      "image/png": "[encoded data removed]",
      "text/plain": [
       "<Figure size 432x288 with 1 Axes>"
      ]
     },
     "metadata": {},
     "output_type": "display_data"
    }
   ],
   "source": [
    "import numpy as np\n",
    "import pandas as pd\n",
    "import seaborn as sns\n",
    "import matplotlib.pyplot as plt\n",
    "\n",
    "# load the dataset\n",
    "Boxplot= pd.read_csv(\"D:/Documents/final-year-project/ANALYSIS OF DR/pca-mse-analysis.csv\")\n",
    "\n",
    "sns.set_style(\"whitegrid\")\n",
    "\n",
    "sns.boxplot(x = 'comp', y = 'log(MSE-PCA-components)', data = Boxplot)\n",
    "plt.savefig('D:/Documents/final-year-project/ANALYSIS OF DR/PCA_DR_analysis_boxplot.png', orientation = 'horizontal')"
   ]
  },
  {
   "cell_type": "code",
   "execution_count": null,
   "id": "67f93c25",
   "metadata": {},
   "outputs": [],
   "source": []
  }
 ],
 "metadata": {
  "kernelspec": {
   "display_name": "Python 3",
   "language": "python",
   "name": "python3"
  },
  "language_info": {
   "codemirror_mode": {
    "name": "ipython",
    "version": 3
   },
   "file_extension": ".py",
   "mimetype": "text/x-python",
   "name": "python",
   "nbconvert_exporter": "python",
   "pygments_lexer": "ipython3",
   "version": "3.8.8"
  }
 },
 "nbformat": 4,
 "nbformat_minor": 5
}
