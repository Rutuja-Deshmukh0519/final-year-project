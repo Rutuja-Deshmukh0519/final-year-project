{
 "cells": [
  {
   "cell_type": "markdown",
   "id": "f5148b64",
   "metadata": {},
   "source": [
    "# SVD"
   ]
  },
  {
   "cell_type": "code",
   "execution_count": 3,
   "id": "8bbcbcb2",
   "metadata": {},
   "outputs": [
    {
     "name": "stdout",
     "output_type": "stream",
     "text": [
      "Total Time required for execution:  7.6875\n"
     ]
    }
   ],
   "source": [
    "import numpy as np\n",
    "import pandas as pd\n",
    "import matplotlib.pyplot as plt\n",
    "import os\n",
    "import glob\n",
    "import time\n",
    "from skimage import io  \n",
    "\n",
    "total_time = 0.0\n",
    "start_total = time.process_time()\n",
    "i = 0\n",
    "os.mkdir('SVD-matrices') \n",
    "path = \"Resized_sample/*.jpeg*\"\n",
    "\n",
    "for image in glob.glob(path):\n",
    "    img = io.imread(image)\n",
    "    U, S, V = np.linalg.svd(img)\n",
    "    \n",
    "    #  print(U.shape, S.shape, V.shape)\n",
    "\n",
    "    # plot images with different number of components\n",
    "    comps = [50]\n",
    "\n",
    "#     for i in range(1):\n",
    "#         low_rank = U[:, :comps[i]] @ np.diag(S[:comps[i]]) @ V[:comps[i], :]\n",
    "#         if(i  == 0):\n",
    "#             plt.subplot(2, 3, i+1), plt.imshow(low_rank, cmap = 'gray'), plt.axis('off'), plt.title(\"OIW  =\" + str(comps[i]))\n",
    "#         else:\n",
    "#             plt.subplot(2, 3, i+1), plt.imshow(low_rank, cmap = 'gray'), plt.axis('off'), plt.title(\"n_components =\" + str(comps[i]))\n",
    "            \n",
    "    io.imsave(\"SVD-matrices/image%05i.jpeg\" %i, img)\n",
    "    i += 1\n",
    "    \n",
    "total_time += time.process_time() - start_total\n",
    "\n",
    "print(\"Total Time required for execution: \", total_time)"
   ]
  },
  {
   "cell_type": "code",
   "execution_count": null,
   "id": "d40198ea",
   "metadata": {},
   "outputs": [],
   "source": []
  }
 ],
 "metadata": {
  "kernelspec": {
   "display_name": "Python 3",
   "language": "python",
   "name": "python3"
  },
  "language_info": {
   "codemirror_mode": {
    "name": "ipython",
    "version": 3
   },
   "file_extension": ".py",
   "mimetype": "text/x-python",
   "name": "python",
   "nbconvert_exporter": "python",
   "pygments_lexer": "ipython3",
   "version": "3.8.8"
  }
 },
 "nbformat": 4,
 "nbformat_minor": 5
}
