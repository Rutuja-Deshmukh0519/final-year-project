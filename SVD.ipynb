{
 "cells": [
  {
   "cell_type": "markdown",
   "id": "f5148b64",
   "metadata": {},
   "source": [
    "# SVD"
   ]
  },
  {
   "cell_type": "code",
   "execution_count": 15,
   "id": "8bbcbcb2",
   "metadata": {},
   "outputs": [
    {
     "name": "stdout",
     "output_type": "stream",
     "text": [
      "Total Time required for execution:  94.28125\n"
     ]
    }
   ],
   "source": [
    "from PIL import Image\n",
    "from skimage import io\n",
    "import time\n",
    "import os\n",
    "import glob\n",
    "import xlsxwriter\n",
    "import math\n",
    "\n",
    "# plt.style.use('classic')\n",
    "total_time = 0.0\n",
    "start_total = time.process_time()\n",
    "\n",
    "i = 0\n",
    "os.mkdir('svd-output-40-comps')\n",
    "path=\"resized-output/*.jpeg*\"\n",
    "\n",
    "for image in glob.glob(path):\n",
    "    img = Image.open(image)\n",
    "    # convert to numpy array\n",
    "    imgmat = np.array(list(img.getdata(band=0)), float)\n",
    "    # Reshape according to orginal image dimensions\n",
    "    imgmat.shape = (img.size[1], img.size[0])\n",
    "\n",
    "#     plt.figure(figsize=(9, 6))\n",
    "#     plt.imshow(imgmat, cmap='gray')\n",
    "#     plt.show()\n",
    "    U, D, V = np.linalg.svd(imgmat)\n",
    "    imgmat.shape\n",
    "    U.shape\n",
    "    D.shape\n",
    "    V.shape\n",
    "    reconstimg = np.matrix(U[:, :40]) * np.diag(D[:40]) * np.matrix(V[:40, :])\n",
    "    reconstimg = reconstimg.astype(np.uint8)\n",
    "    io.imsave(\"svd-output-40-comps/image%05i.jpeg\" %i, reconstimg)\n",
    "#     plt.imshow(reconstimg, cmap='gray')\n",
    "#     plt.show()\n",
    "    i += 1\n",
    "    \n",
    "total_time += time.process_time() - start_total\n",
    "print(\"Total Time required for execution: \", total_time)\n"
   ]
  },
  {
   "cell_type": "code",
   "execution_count": 16,
   "id": "acc156eb",
   "metadata": {},
   "outputs": [],
   "source": [
    "def mse(imageA, imageB):\n",
    "    err = np.sum((imageA.astype(\"float\") - imageB.astype(\"float\")) ** 2)\n",
    "    err /= float(imageA.shape[0] * imageA.shape[1])\n",
    "    return err"
   ]
  },
  {
   "cell_type": "code",
   "execution_count": 18,
   "id": "16e63b4a",
   "metadata": {},
   "outputs": [
    {
     "name": "stdout",
     "output_type": "stream",
     "text": [
      "SVD MSE Calculation Successful!\n"
     ]
    }
   ],
   "source": [
    "workbook = xlsxwriter.Workbook('SVD-Dimensionality-reduction-analysis.xlsx')\n",
    "worksheet = workbook.add_worksheet()\n",
    "\n",
    "# SVD columns\n",
    "worksheet.write('A1', 'log(MSE-SVD-40-components)')\n",
    "worksheet.write('B1', 'log(MSE-SVD-45-components)')\n",
    "worksheet.write('C1', 'log(MSE-SVD-50-components)')\n",
    "worksheet.write('D1', 'log(MSE-SVD-55-components)')\n",
    "worksheet.write('E1', 'log(MSE-SVD-60-components)')\n",
    "\n",
    "path_resized = \"D:/Documents/final-year-project/resized-output/*.jpeg*\"\n",
    "\n",
    "# Path variable for SVD\n",
    "path_svd_40_comps = \"D:/Documents/final-year-project/svd-output-40-comps/*.jpeg*\"\n",
    "path_svd_45_comps = \"D:/Documents/final-year-project/svd-output-45-comps/*.jpeg*\"\n",
    "path_svd_50_comps = \"D:/Documents/final-year-project/svd-output-50-comps/*.jpeg*\"\n",
    "path_svd_55_comps = \"D:/Documents/final-year-project/svd-output-55-comps/*.jpeg*\"\n",
    "path_svd_60_comps = \"D:/Documents/final-year-project/svd-output-60-comps/*.jpeg*\"\n",
    "\n",
    "rowIndexSVD = 2\n",
    "for imgResized, imgSVD40Comps, imgSVD45Comps, imgSVD50Comps, imgSVD55Comps, imgSVD60Comps in zip(glob.glob(path_resized), glob.glob(path_svd_40_comps), glob.glob(path_svd_45_comps), glob.glob(path_svd_50_comps), glob.glob(path_svd_55_comps), glob.glob(path_svd_60_comps)):\n",
    "    img_resized = io.imread(imgResized)\n",
    "    img_svd_40_comps = io.imread(imgSVD40Comps)\n",
    "    img_svd_45_comps = io.imread(imgSVD45Comps)\n",
    "    img_svd_50_comps = io.imread(imgSVD50Comps)\n",
    "    img_svd_55_comps = io.imread(imgSVD55Comps)\n",
    "    img_svd_60_comps = io.imread(imgSVD60Comps)\n",
    "    \n",
    "    err_svd_40_comps = mse(img_resized, img_svd_40_comps)\n",
    "    err_svd_45_comps = mse(img_resized, img_svd_45_comps)\n",
    "    err_svd_50_comps = mse(img_resized, img_svd_50_comps)\n",
    "    err_svd_55_comps = mse(img_resized, img_svd_55_comps)\n",
    "    err_svd_60_comps = mse(img_resized, img_svd_60_comps)\n",
    "    \n",
    "    # Calculating log for better visualization\n",
    "    log_mse_svd_40_comps = math.log(err_svd_40_comps)\n",
    "    log_mse_svd_45_comps = math.log(err_svd_45_comps)\n",
    "    log_mse_svd_50_comps = math.log(err_svd_50_comps)\n",
    "    log_mse_svd_55_comps = math.log(err_svd_55_comps)\n",
    "    log_mse_svd_60_comps = math.log(err_svd_60_comps)\n",
    "    \n",
    "    worksheet.write('A' + str(rowIndexSVD), log_mse_svd_40_comps)\n",
    "    worksheet.write('B' + str(rowIndexSVD), log_mse_svd_45_comps)\n",
    "    worksheet.write('C' + str(rowIndexSVD), log_mse_svd_50_comps)\n",
    "    worksheet.write('D' + str(rowIndexSVD), log_mse_svd_55_comps)\n",
    "    worksheet.write('E' + str(rowIndexSVD), log_mse_svd_60_comps)    \n",
    "   \n",
    "    rowIndexSVD += 1\n",
    "\n",
    "workbook.close()\n",
    "\n",
    "print(\"SVD MSE Calculation Successful!\")"
   ]
  },
  {
   "cell_type": "code",
   "execution_count": 22,
   "id": "4a95cd49",
   "metadata": {},
   "outputs": [
    {
     "data": {
      "image/png": "[encoded data removed]",
      "text/plain": [
       "<Figure size 432x288 with 1 Axes>"
      ]
     },
     "metadata": {},
     "output_type": "display_data"
    }
   ],
   "source": [
    "import numpy as np\n",
    "import pandas as pd\n",
    "import seaborn as sns\n",
    "import matplotlib.pyplot as plt\n",
    "\n",
    "# load the dataset\n",
    "Boxplot= pd.read_csv(\"D:/Documents/final-year-project/ANALYSIS OF DR/svd-mse-analysis.csv\")\n",
    "\n",
    "sns.set_style(\"whitegrid\")\n",
    "\n",
    "boxplot_svd = sns.boxplot(x = 'comp', y = 'log(MSE-SVD-components)', data = Boxplot)\n",
    "plt.savefig('D:/Documents/final-year-project/ANALYSIS OF DR/SVD_DR_analysis_boxplot.png', orientation = 'horizontal')"
   ]
  },
  {
   "cell_type": "code",
   "execution_count": null,
   "id": "f0d9e1e7",
   "metadata": {},
   "outputs": [],
   "source": []
  },
  {
   "cell_type": "code",
   "execution_count": null,
   "id": "0e462e80",
   "metadata": {},
   "outputs": [],
   "source": []
  }
 ],
 "metadata": {
  "kernelspec": {
   "display_name": "Python 3",
   "language": "python",
   "name": "python3"
  },
  "language_info": {
   "codemirror_mode": {
    "name": "ipython",
    "version": 3
   },
   "file_extension": ".py",
   "mimetype": "text/x-python",
   "name": "python",
   "nbconvert_exporter": "python",
   "pygments_lexer": "ipython3",
   "version": "3.8.8"
  }
 },
 "nbformat": 4,
 "nbformat_minor": 5
}
