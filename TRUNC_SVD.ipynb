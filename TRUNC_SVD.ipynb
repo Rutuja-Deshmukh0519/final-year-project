{
 "cells": [
  {
   "cell_type": "code",
   "execution_count": 5,
   "id": "aa41e143",
   "metadata": {},
   "outputs": [
    {
     "name": "stdout",
     "output_type": "stream",
     "text": [
      "Total Time required for execution:  1258.90625\n",
      "Total Fit-Transform Time:  1237.828125\n",
      "Average Fit-Transform time:  1.237828125\n"
     ]
    }
   ],
   "source": [
    "from sklearn.decomposition import TruncatedSVD\n",
    "import numpy as np\n",
    "import matplotlib.pyplot as plt\n",
    "import os\n",
    "import glob\n",
    "import time\n",
    "from skimage import io  \n",
    "\n",
    "total_time1 = 0.0\n",
    "sum_fit_transform = 0.0\n",
    "start_total = time.process_time()\n",
    "\n",
    "i = 0\n",
    "os.mkdir('SVD-truncated-60-comps') \n",
    "path = \"resized-output/*.jpeg*\"\n",
    "\n",
    "for img in glob.glob(path):\n",
    "    X=io.imread(img)\n",
    "#     io.imshow(X)\n",
    "\n",
    "    svd = TruncatedSVD(n_components=60)\n",
    "    start_fit_transform = time.process_time()\n",
    "    X_svd = svd.fit_transform(X)\n",
    "    sum_fit_transform += time.process_time() - start_fit_transform\n",
    "    y=X.ndim\n",
    "\n",
    "    image = svd.inverse_transform(X_svd)\n",
    "    image = image.astype(np.uint8)\n",
    "    \n",
    "    io.imsave(\"SVD-truncated-60-comps/image%05i.jpeg\" %i, image)\n",
    "    i += 1\n",
    "    \n",
    "total_time1 += time.process_time() - start_total\n",
    "avg_fit_transform = sum_fit_transform/1000 \n",
    "print(\"Total Time required for execution: \", total_time1)\n",
    "print(\"Total Fit-Transform Time: \", sum_fit_transform)\n",
    "print(\"Average Fit-Transform time: \", avg_fit_transform)"
   ]
  },
  {
   "cell_type": "code",
   "execution_count": 9,
   "id": "6242c400",
   "metadata": {},
   "outputs": [],
   "source": [
    "import xlsxwriter\n",
    "import math\n",
    "\n",
    "def mse(imageA, imageB):\n",
    "    err = np.sum((imageA.astype(\"float\") - imageB.astype(\"float\")) ** 2)\n",
    "    err /= float(imageA.shape[0] * imageA.shape[1])\n",
    "    return err"
   ]
  },
  {
   "cell_type": "code",
   "execution_count": 10,
   "id": "03861de0",
   "metadata": {},
   "outputs": [
    {
     "name": "stdout",
     "output_type": "stream",
     "text": [
      "Truncated SVD MSE Calculation Successful!\n"
     ]
    }
   ],
   "source": [
    "workbook = xlsxwriter.Workbook('Trunc-SVD-Dimensionality-reduction-analysis.xlsx')\n",
    "worksheet = workbook.add_worksheet()\n",
    "\n",
    "worksheet.write('A1', 'log(MSE-truncSVD-40-components)')\n",
    "worksheet.write('B1', 'log(MSE-truncSVD-45-components)')\n",
    "worksheet.write('C1', 'log(MSE-truncSVD-50-components)')\n",
    "worksheet.write('D1', 'log(MSE-truncSVD-55-components)')\n",
    "worksheet.write('E1', 'log(MSE-truncSVD-60-components)')\n",
    "\n",
    "path_resized = \"D:/Documents/final-year-project/resized-output/*.jpeg*\"\n",
    "path_truncSVD_40_comps = \"D:/Documents/final-year-project/SVD-truncated-40-comps/*.jpeg*\"\n",
    "path_truncSVD_45_comps = \"D:/Documents/final-year-project/SVD-truncated-45-comps/*.jpeg*\"\n",
    "path_truncSVD_50_comps = \"D:/Documents/final-year-project/SVD-truncated-50-comps/*.jpeg*\"\n",
    "path_truncSVD_55_comps = \"D:/Documents/final-year-project/SVD-truncated-55-comps/*.jpeg*\"\n",
    "path_truncSVD_60_comps = \"D:/Documents/final-year-project/SVD-truncated-60-comps/*.jpeg*\"\n",
    "\n",
    "rowIndexTruncSVD = 2\n",
    "for imgResized, imgTruncSVD40Comps, imgTruncSVD45Comps, imgTruncSVD50Comps, imgTruncSVD55Comps, imgTruncSVD60Comps in zip(glob.glob(path_resized), glob.glob(path_truncSVD_40_comps), glob.glob(path_truncSVD_45_comps), glob.glob(path_truncSVD_50_comps), glob.glob(path_truncSVD_55_comps), glob.glob(path_truncSVD_60_comps)):\n",
    "    img_resized = io.imread(imgResized)\n",
    "    img_truncSVD_40_comps = io.imread(imgTruncSVD40Comps)\n",
    "    img_truncSVD_45_comps = io.imread(imgTruncSVD45Comps)\n",
    "    img_truncSVD_50_comps = io.imread(imgTruncSVD50Comps)\n",
    "    img_truncSVD_55_comps = io.imread(imgTruncSVD55Comps)\n",
    "    img_truncSVD_60_comps = io.imread(imgTruncSVD60Comps)\n",
    "    \n",
    "    err_truncSVD_40_comps = mse(img_resized, img_truncSVD_40_comps)\n",
    "    err_truncSVD_45_comps = mse(img_resized, img_truncSVD_45_comps)\n",
    "    err_truncSVD_50_comps = mse(img_resized, img_truncSVD_50_comps)\n",
    "    err_truncSVD_55_comps = mse(img_resized, img_truncSVD_55_comps)\n",
    "    err_truncSVD_60_comps = mse(img_resized, img_truncSVD_60_comps)\n",
    "    \n",
    "    # Calculating log for better visualization\n",
    "    log_mse_truncSVD_40_comps = math.log(err_truncSVD_40_comps)\n",
    "    log_mse_truncSVD_45_comps = math.log(err_truncSVD_45_comps)\n",
    "    log_mse_truncSVD_50_comps = math.log(err_truncSVD_50_comps)\n",
    "    log_mse_truncSVD_55_comps = math.log(err_truncSVD_55_comps)\n",
    "    log_mse_truncSVD_60_comps = math.log(err_truncSVD_60_comps)\n",
    "    \n",
    "    worksheet.write('A' + str(rowIndexTruncSVD), log_mse_truncSVD_40_comps)\n",
    "    worksheet.write('B' + str(rowIndexTruncSVD), log_mse_truncSVD_45_comps)\n",
    "    worksheet.write('C' + str(rowIndexTruncSVD), log_mse_truncSVD_50_comps)\n",
    "    worksheet.write('D' + str(rowIndexTruncSVD), log_mse_truncSVD_55_comps)\n",
    "    worksheet.write('E' + str(rowIndexTruncSVD), log_mse_truncSVD_60_comps)\n",
    "   \n",
    "    rowIndexTruncSVD += 1\n",
    "    \n",
    "workbook.close()\n",
    "\n",
    "print(\"Truncated SVD MSE Calculation Successful!\")"
   ]
  },
  {
   "cell_type": "code",
   "execution_count": 13,
   "id": "2eff46d5",
   "metadata": {},
   "outputs": [
    {
     "data": {
      "image/png": "[encoded data removed]",
      "text/plain": [
       "<Figure size 432x288 with 1 Axes>"
      ]
     },
     "metadata": {},
     "output_type": "display_data"
    }
   ],
   "source": [
    "import numpy as np\n",
    "import pandas as pd\n",
    "import seaborn as sns\n",
    "import matplotlib.pyplot as plt\n",
    "\n",
    "# load the dataset\n",
    "Boxplot= pd.read_csv(\"D:/Documents/final-year-project/ANALYSIS OF DR/trunc-svd-mse-analysis.csv\")\n",
    "\n",
    "sns.set_style(\"whitegrid\")\n",
    "\n",
    "sns.boxplot(x = 'comp', y = 'log(MSE-Trunc-SVD-components)', data = Boxplot)\n",
    "plt.savefig('D:/Documents/final-year-project/ANALYSIS OF DR/Trunc_SVD_DR_analysis_boxplot.png', orientation = 'horizontal')"
   ]
  },
  {
   "cell_type": "code",
   "execution_count": null,
   "id": "8f3b94d5",
   "metadata": {},
   "outputs": [],
   "source": []
  }
 ],
 "metadata": {
  "kernelspec": {
   "display_name": "Python 3",
   "language": "python",
   "name": "python3"
  },
  "language_info": {
   "codemirror_mode": {
    "name": "ipython",
    "version": 3
   },
   "file_extension": ".py",
   "mimetype": "text/x-python",
   "name": "python",
   "nbconvert_exporter": "python",
   "pygments_lexer": "ipython3",
   "version": "3.8.8"
  }
 },
 "nbformat": 4,
 "nbformat_minor": 5
}
