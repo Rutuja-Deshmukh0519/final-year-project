{
 "cells": [
  {
   "cell_type": "code",
   "execution_count": 2,
   "id": "607ed9a1",
   "metadata": {},
   "outputs": [
    {
     "name": "stdout",
     "output_type": "stream",
     "text": [
      "Total Time required for execution:  143.109375\n",
      "Total Fit-Transform Time:  141.203125\n",
      "Average Fit-Transform time:  0.0031378472222222224\n"
     ]
    }
   ],
   "source": [
    "from sklearn.decomposition import TruncatedSVD\n",
    "import numpy as np\n",
    "import pandas as pd\n",
    "import matplotlib.pyplot as plt\n",
    "import cv2\n",
    "import os\n",
    "import glob\n",
    "import time\n",
    "from skimage import io  \n",
    "\n",
    "total_time1 = 0.0\n",
    "sum_fit_transform = 0.0\n",
    "start_total = time.process_time()\n",
    "\n",
    "i = 0\n",
    "os.mkdir('SVD-truncated') \n",
    "path = \"Resized_sample/*.jpeg*\"\n",
    "\n",
    "for img in glob.glob(path):\n",
    "    X=io.imread(img)\n",
    "    # io.imshow(X)\n",
    "\n",
    "    svd = TruncatedSVD(n_components=50)\n",
    "    start_fit_transform = time.process_time()\n",
    "    X_svd = svd.fit_transform(X)\n",
    "    sum_fit_transform += time.process_time() - start_fit_transform\n",
    "    y=X.ndim\n",
    "\n",
    "    image = svd.inverse_transform(X_svd)\n",
    "    image = image.astype(np.uint8)\n",
    "    \n",
    "    io.imsave(\"SVD-truncated/image%05i.jpeg\" %i, image)\n",
    "    i += 1\n",
    "    \n",
    "total_time1 += time.process_time() - start_total\n",
    "avg_fit_transform = sum_fit_transform/45000 \n",
    "print(\"Total Time required for execution: \", total_time1)\n",
    "print(\"Total Fit-Transform Time: \", sum_fit_transform)\n",
    "print(\"Average Fit-Transform time: \", avg_fit_transform)"
   ]
  },
  {
   "cell_type": "code",
   "execution_count": null,
   "id": "ae40c689",
   "metadata": {},
   "outputs": [],
   "source": []
  }
 ],
 "metadata": {
  "kernelspec": {
   "display_name": "Python 3",
   "language": "python",
   "name": "python3"
  },
  "language_info": {
   "codemirror_mode": {
    "name": "ipython",
    "version": 3
   },
   "file_extension": ".py",
   "mimetype": "text/x-python",
   "name": "python",
   "nbconvert_exporter": "python",
   "pygments_lexer": "ipython3",
   "version": "3.8.8"
  }
 },
 "nbformat": 4,
 "nbformat_minor": 5
}
