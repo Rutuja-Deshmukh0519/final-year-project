{
 "cells": [
  {
   "cell_type": "markdown",
   "id": "33319cae",
   "metadata": {},
   "source": [
    "# Preprocessing File"
   ]
  },
  {
   "cell_type": "code",
   "execution_count": 1,
   "id": "e8605053",
   "metadata": {},
   "outputs": [
    {
     "name": "stdout",
     "output_type": "stream",
     "text": [
      "Resizing\n"
     ]
    }
   ],
   "source": [
    "print('Resizing')"
   ]
  },
  {
   "cell_type": "code",
   "execution_count": 2,
   "id": "975f2c57",
   "metadata": {},
   "outputs": [
    {
     "name": "stdout",
     "output_type": "stream",
     "text": [
      "Segmentation\n"
     ]
    }
   ],
   "source": [
    "print('Segmentation')"
   ]
  }
 ],
 "metadata": {
  "kernelspec": {
   "display_name": "Python 3",
   "language": "python",
   "name": "python3"
  },
  "language_info": {
   "codemirror_mode": {
    "name": "ipython",
    "version": 3
   },
   "file_extension": ".py",
   "mimetype": "text/x-python",
   "name": "python",
   "nbconvert_exporter": "python",
   "pygments_lexer": "ipython3",
   "version": "3.8.8"
  }
 },
 "nbformat": 4,
 "nbformat_minor": 5
}
